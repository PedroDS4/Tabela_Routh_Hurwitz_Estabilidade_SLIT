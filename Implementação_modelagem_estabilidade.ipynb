{
  "nbformat": 4,
  "nbformat_minor": 0,
  "metadata": {
    "colab": {
      "provenance": [],
      "authorship_tag": "ABX9TyP1+DMy/imSF4mrKv7Pw/p7",
      "include_colab_link": true
    },
    "kernelspec": {
      "name": "python3",
      "display_name": "Python 3"
    },
    "language_info": {
      "name": "python"
    }
  },
  "cells": [
    {
      "cell_type": "markdown",
      "metadata": {
        "id": "view-in-github",
        "colab_type": "text"
      },
      "source": [
        "<a href=\"https://colab.research.google.com/github/PedroDS4/Tabela_Routh_Hurwitz_Estabilidade_SLIT/blob/main/Implementa%C3%A7%C3%A3o_modelagem_estabilidade.ipynb\" target=\"_parent\"><img src=\"https://colab.research.google.com/assets/colab-badge.svg\" alt=\"Open In Colab\"/></a>"
      ]
    },
    {
      "cell_type": "markdown",
      "source": [
        "##**Atividade Modelagem**\n",
        "**Implementação computacional do cálculo da tabela de Routh-Hurwitz**\n",
        "Seja um sistema LIT representado pela seguinte função de transferência\n",
        "\n",
        "$$\n",
        "G(s) = \\frac{N(s)}{D(s)} = \\frac{N(s)}{\\sum_{j = 0}^{M} a_j \\cdot s^j}\n",
        "$$\n",
        "\n",
        "dizemos que o sistema é estável se todas as raízes de $D(s)$ estão no semiplano complexo esquerdo, ou seja, todas tem parte real menos que zero.\n",
        "\n",
        "Para isso existem métodos para verificar a estabilidade desses sistemas, um deles é a tabela de Routh Hurwitz, que nos permite por meio de alguns cálculos verificar se um sistema é BIBO-estável ou não.\n",
        "\n",
        "A tabela para o polinômio genérico $D(s)$ é dada por\n",
        "\n",
        "\\begin{array}{c|cccc}\n",
        "s^n & a_n & a_{n-2} & a_{n-4} & \\cdots \\\\\n",
        "s^{n-1} & a_{n-1} & a_{n-3} & a_{n-5} & \\cdots \\\\\n",
        "s^{n-2} & c_1 & c_2 & c_3 & \\cdots \\\\\n",
        "\\vdots & \\vdots & \\vdots & \\vdots & \\ddots \\\\\n",
        "s^1 & \\cdot & \\cdot & \\cdot & \\\\\n",
        "s^0 & \\cdot & \\cdot & \\cdot &\n",
        "\\end{array}\n",
        "\n",
        "\n",
        "onde os termos abaixo das duas primeiras linhas seguem a lógica\n",
        "$$\n",
        "c_1 =\n",
        "\\begin{vmatrix}\n",
        "a_n & a_{n-2} \\\\\n",
        "a_{n-1} & a_{n-3}\n",
        "\\end{vmatrix}\n",
        "$$\n",
        "\n",
        "Por fim verificamos se há mudança de sinal na primeira coluna da tabela montada, em casa afirmativo dizemos que o sistema não é BIBO-estável e o número de raízes no semi-plano direito é igual ao número de mudanças de sinal.\n",
        "Em caso negativo, dizemos que o sistema é BIBO-estável.\n",
        "\n",
        "\n",
        "\n",
        "\n",
        "\n"
      ],
      "metadata": {
        "id": "-r9DOtY238fX"
      }
    },
    {
      "cell_type": "code",
      "execution_count": null,
      "metadata": {
        "id": "7ahiDgbN2_J2"
      },
      "outputs": [],
      "source": [
        "import numpy as np\n",
        "import matplotlib.pyplot as plt\n",
        "import numpy.linalg as la\n",
        "\n",
        "\n",
        "def RH(coeficientes):\n",
        "  n = len(coeficientes)\n",
        "  grau = n - 1\n",
        "  m = (n+1)//2\n",
        "  right_semi_plane_roots = 0\n",
        "  is_stable = True\n",
        "\n",
        "\n",
        "  if grau == 1:\n",
        "    raiz = -coeficientes[1]/coeficientes[0]\n",
        "\n",
        "    if raiz>0:\n",
        "      right_semi_plane_roots = 1\n",
        "      left_semi_plane_roots = 1-right_semi_plane_roots\n",
        "      is_stable = False\n",
        "      return np.array([  [coeficientes[0],0],[coeficientes[1],0]  ]), is_stable, right_semi_plane_roots, left_semi_plane_roots\n",
        "\n",
        "  tabela = np.zeros((n, m))\n",
        "\n",
        "  first_line = coeficientes[0::2]\n",
        "  second_line = coeficientes[1::2]\n",
        "\n",
        "\n",
        "  tabela[0] = first_line\n",
        "\n",
        "  if grau % 2 == 0:\n",
        "    tabela[1] = np.concatenate((second_line,np.zeros(1)))\n",
        "  else:\n",
        "    tabela[1] = second_line\n",
        "\n",
        "  for i in range(2, n):\n",
        "        for j in range(m - 1):  # Ajustado para evitar IndexError\n",
        "            # Cria as fatias de tamanho 2 que representam as colunas acima\n",
        "            slice2 = tabela[i - 1, j:j + 2]\n",
        "            slice1 = tabela[i - 2, j:j + 2]\n",
        "\n",
        "            # Verifica se as fatias têm tamanho 2 antes de calcular o determinante\n",
        "            if len(slice1) == 2 and len(slice2) == 2:\n",
        "                # Constrói a matriz 2x2 e calcula o determinante\n",
        "                matrix = np.array([slice1, slice2])\n",
        "                c_ij = -la.det(matrix) / tabela[i - 1, j]\n",
        "                tabela[i, j] = c_ij\n",
        "\n",
        "            else:\n",
        "                # Lida com casos onde a fatia tem menos de 2 elementos\n",
        "                # (por exemplo, no final da linha)\n",
        "                tabela[i, j] = 0  # ou outro valor apropriado\n",
        "\n",
        "\n",
        "\n",
        "  for i in range(n):\n",
        "    if np.sign(tabela[i,0]) != np.sign(tabela[0,0]):\n",
        "      right_semi_plane_roots += 1\n",
        "      is_stable = False\n",
        "    if tabela[i,0] == 0:\n",
        "      is_stable = False\n",
        "\n",
        "\n",
        "  left_semi_plane_roots = grau - right_semi_plane_roots\n",
        "\n",
        "\n",
        "  return tabela, is_stable, right_semi_plane_roots, left_semi_plane_roots\n",
        "\n",
        "\n",
        "\n",
        "\n",
        "def exibir_tabela(tabela):\n",
        "  \"\"\"\n",
        "  Exibe a tabela de Routh-Hurwitz formatada com potências de 's'.\n",
        "\n",
        "  Args:\n",
        "    tabela: A tabela de Routh-Hurwitz como um array NumPy.\n",
        "  \"\"\"\n",
        "  n_linhas = tabela.shape[0]\n",
        "  n_colunas = tabela.shape[1]\n",
        "  grau = n_linhas - 1\n",
        "\n",
        "  # Imprime o cabeçalho com as potências de 's'\n",
        "  print(\" \" * 5, end=\"\")  # Espaçamento inicial\n",
        "  for j in range(n_colunas):\n",
        "    print(f\"c{j+1:2d}\", end=\"   \")  # Cabeçalho das colunas\n",
        "  print()\n",
        "\n",
        "  for i in range(n_linhas):\n",
        "    # Calcula a potência de 's' para a linha atual\n",
        "    potencia_s = grau - i\n",
        "\n",
        "    # Imprime a potência de 's'\n",
        "    print(f\"s^{potencia_s:2d}\", end=\"  \")\n",
        "\n",
        "    # Imprime os valores da linha\n",
        "    for j in range(n_colunas):\n",
        "      print(f\"{tabela[i, j]}\", end=\" \")\n",
        "    print()  # Nova linha\n"
      ]
    },
    {
      "cell_type": "code",
      "source": [
        "#Exemplo com polinômio de segundo grau\n",
        "#s^2 + 2s + 1\n",
        "\n",
        "coef = np.array([4,1,2,1])\n",
        "table, is_stable, right_semi_plane_roots, left_semi_plane_roots = RH(coef)\n",
        "print(table)\n",
        "print(is_stable)\n",
        "print(right_semi_plane_roots)\n",
        "print(left_semi_plane_roots)\n",
        "\n",
        "exibir_tabela(table)"
      ],
      "metadata": {
        "colab": {
          "base_uri": "https://localhost:8080/"
        },
        "id": "hIIlI1q4H2YZ",
        "outputId": "b3525ad1-0e07-47ff-b768-b197296aaa3e"
      },
      "execution_count": null,
      "outputs": [
        {
          "output_type": "stream",
          "name": "stdout",
          "text": [
            "[[ 4.  2.]\n",
            " [ 1.  1.]\n",
            " [-2.  0.]\n",
            " [ 1.  0.]]\n",
            "False\n",
            "1\n",
            "2\n",
            "     c 1   c 2   \n",
            "s^ 3  4.0 2.0 \n",
            "s^ 2  1.0 1.0 \n",
            "s^ 1  -2.0 0.0 \n",
            "s^ 0  1.0 0.0 \n"
          ]
        }
      ]
    },
    {
      "cell_type": "code",
      "source": [
        "#Exemplo polinômio de grau 1\n",
        "#s^3+s^2+2s+1\n",
        "coef = np.array([1,1,2,1])\n",
        "table, is_stable, right_semi_plane_roots, left_semi_plane_roots = RH(coef)\n",
        "print(table)\n",
        "print(is_stable)\n",
        "print(right_semi_plane_roots)\n",
        "print(left_semi_plane_roots)\n",
        "\n",
        "exibir_tabela(table)"
      ],
      "metadata": {
        "id": "ZcJX0brXPMIz",
        "colab": {
          "base_uri": "https://localhost:8080/"
        },
        "outputId": "d8234bfd-80ad-43db-a6ee-365ce00ad094"
      },
      "execution_count": null,
      "outputs": [
        {
          "output_type": "stream",
          "name": "stdout",
          "text": [
            "[[1. 2.]\n",
            " [1. 1.]\n",
            " [1. 0.]\n",
            " [1. 0.]]\n",
            "True\n",
            "0\n",
            "3\n",
            "     c 1   c 2   \n",
            "s^ 3  1.0 2.0 \n",
            "s^ 2  1.0 1.0 \n",
            "s^ 1  1.0 0.0 \n",
            "s^ 0  1.0 0.0 \n"
          ]
        }
      ]
    }
  ]
}